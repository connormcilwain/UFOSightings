{
 "cells": [
  {
   "cell_type": "markdown",
   "id": "94f15e7a",
   "metadata": {},
   "source": [
    "## Setup"
   ]
  },
  {
   "cell_type": "code",
   "execution_count": 2,
   "id": "64c8c3ab",
   "metadata": {},
   "outputs": [],
   "source": [
    "import pandas as pd\n",
    "import numpy as np \n",
    "import re\n",
    "from jupyterthemes import jtplot\n",
    "jtplot.style()"
   ]
  },
  {
   "cell_type": "code",
   "execution_count": 3,
   "id": "8c7ab006",
   "metadata": {},
   "outputs": [
    {
     "name": "stdout",
     "output_type": "stream",
     "text": [
      "<class 'pandas.core.frame.DataFrame'>\n",
      "RangeIndex: 141261 entries, 0 to 141260\n",
      "Data columns (total 13 columns):\n",
      " #   Column          Non-Null Count   Dtype  \n",
      "---  ------          --------------   -----  \n",
      " 0   summary         141189 non-null  object \n",
      " 1   country         140944 non-null  object \n",
      " 2   city            140783 non-null  object \n",
      " 3   state           131681 non-null  object \n",
      " 4   date_time       138601 non-null  object \n",
      " 5   shape           134962 non-null  object \n",
      " 6   duration        133645 non-null  object \n",
      " 7   stats           141261 non-null  object \n",
      " 8   report_link     141261 non-null  object \n",
      " 9   text            141227 non-null  object \n",
      " 10  posted          138601 non-null  object \n",
      " 11  city_latitude   115440 non-null  float64\n",
      " 12  city_longitude  115440 non-null  float64\n",
      "dtypes: float64(2), object(11)\n",
      "memory usage: 14.0+ MB\n"
     ]
    }
   ],
   "source": [
    "# load raw data\n",
    "df = pd.read_csv('nuforc_reports.csv')\n",
    "df.info()"
   ]
  },
  {
   "cell_type": "code",
   "execution_count": 4,
   "id": "b0670aa1",
   "metadata": {},
   "outputs": [
    {
     "name": "stderr",
     "output_type": "stream",
     "text": [
      "[nltk_data] Downloading package stopwords to\n",
      "[nltk_data]     C:\\Users\\Connor\\AppData\\Roaming\\nltk_data...\n",
      "[nltk_data]   Package stopwords is already up-to-date!\n",
      "[nltk_data] Downloading package wordnet to\n",
      "[nltk_data]     C:\\Users\\Connor\\AppData\\Roaming\\nltk_data...\n",
      "[nltk_data]   Package wordnet is already up-to-date!\n",
      "[nltk_data] Downloading package omw-1.4 to\n",
      "[nltk_data]     C:\\Users\\Connor\\AppData\\Roaming\\nltk_data...\n",
      "[nltk_data]   Package omw-1.4 is already up-to-date!\n"
     ]
    }
   ],
   "source": [
    "import nltk\n",
    "from nltk.corpus import stopwords\n",
    "from nltk.stem import WordNetLemmatizer\n",
    "import string\n",
    "\n",
    "nltk.download('stopwords')\n",
    "nltk.download('wordnet')\n",
    "nltk.download('omw-1.4')\n",
    "stop_words = set(stopwords.words('english'))\n",
    "lemmatizer = WordNetLemmatizer()\n",
    "\n",
    "def clean_text(text):\n",
    "    if type(text) != str:\n",
    "        text = 'none'\n",
    "    text = text.translate(str.maketrans('', '', string.punctuation))\n",
    "    text = text.lower()\n",
    "\n",
    "    # Remove stop words and lemmatize\n",
    "    text = [lemmatizer.lemmatize(word) for word in text.split() if word not in stop_words]\n",
    "    return ' '.join(text)\n",
    "\n",
    "def generate_text_features(df):\n",
    "    df['cleaned_text'] = df['text'].apply(clean_text)\n",
    "    df['cleaned_summary'] = df['summary'].apply(clean_text)\n",
    "    return df"
   ]
  },
  {
   "cell_type": "code",
   "execution_count": 5,
   "id": "adb48005",
   "metadata": {},
   "outputs": [],
   "source": [
    "feature_df = generate_text_features(df)"
   ]
  },
  {
   "cell_type": "code",
   "execution_count": 6,
   "id": "7e5aeab5",
   "metadata": {},
   "outputs": [],
   "source": [
    "# remove empty summaries\n",
    "feature_df = feature_df.dropna(subset='summary')"
   ]
  },
  {
   "cell_type": "code",
   "execution_count": null,
   "id": "2fcc64b3",
   "metadata": {},
   "outputs": [],
   "source": []
  },
  {
   "cell_type": "markdown",
   "id": "5bcb85b4",
   "metadata": {},
   "source": [
    "## LDA"
   ]
  },
  {
   "cell_type": "code",
   "execution_count": 7,
   "id": "a82b495e",
   "metadata": {},
   "outputs": [],
   "source": [
    "from sklearn.decomposition import LatentDirichletAllocation, FastICA\n",
    "from sklearn.cluster import DBSCAN\n",
    "from sklearn.metrics import silhouette_score\n",
    "from skopt import gp_minimize\n",
    "from skopt.space import Real, Integer, Categorical\n",
    "from skopt.utils import use_named_args\n",
    "import tomotopy as tp\n",
    "import tqdm \n",
    "    "
   ]
  },
  {
   "cell_type": "markdown",
   "id": "2c04f744",
   "metadata": {},
   "source": [
    "#### Use subset for tuning"
   ]
  },
  {
   "cell_type": "code",
   "execution_count": 8,
   "id": "b7c268fc",
   "metadata": {},
   "outputs": [],
   "source": [
    "# drop some entries without locations\n",
    "def get_sample(df, n):\n",
    "    return df.dropna(subset='city_latitude').dropna(subset='summary').sample(n).copy()"
   ]
  },
  {
   "cell_type": "code",
   "execution_count": 100,
   "id": "0d8df6c3",
   "metadata": {},
   "outputs": [],
   "source": [
    "sample_df = get_sample(feature_df, 5000)\n",
    "X_train = pd.merge(sample_df, embeddings, how='inner', left_index=True, right_index=True)\n",
    "X_train = np.array(list(X_train.bert_embs))"
   ]
  },
  {
   "cell_type": "code",
   "execution_count": 101,
   "id": "4b9fdcbf",
   "metadata": {},
   "outputs": [
    {
     "data": {
      "text/plain": [
       "(4995, 768)"
      ]
     },
     "execution_count": 101,
     "metadata": {},
     "output_type": "execute_result"
    }
   ],
   "source": [
    "X_train.shape"
   ]
  },
  {
   "cell_type": "code",
   "execution_count": 105,
   "id": "73f030ce",
   "metadata": {},
   "outputs": [],
   "source": [
    "# dbscan hyperparameters\n",
    "eps = Real(0.001, 100, prior='log-uniform', name='eps')\n",
    "min_samples = Integer(1, 1000, name='min_samples', prior='log-uniform')\n",
    "space = [eps, min_samples]\n",
    "\n",
    "@use_named_args(space)\n",
    "def tune_dbscan_sil(**params):\n",
    "    dbscan = DBSCAN(**params)\n",
    "    clusters = dbscan.fit_predict(X_train)\n",
    "    if len(set(clusters)) == 1:\n",
    "        score = 0.0\n",
    "    else:\n",
    "        score = silhouette_score(X_train, clusters)\n",
    "    # minimise - so return negative\n",
    "    return -score\n",
    "\n",
    "def extract_kw_params(params, kw='tfidf'):\n",
    "    keys_to_extract = []\n",
    "    for k in params.keys():\n",
    "        if k.startswith(kw):\n",
    "            keys_to_extract.append(k)\n",
    "    \n",
    "    extracted_params = {}\n",
    "    for k in keys_to_extract:\n",
    "        item = params.pop(k, None)\n",
    "        new_key = k.split('_')[1]\n",
    "        extracted_params[new_key] = item\n",
    "        \n",
    "    return params, extracted_params\n",
    "        \n",
    "    \n",
    "results = gp_minimize(func=tune_dbscan_sil, dimensions=space, n_calls=10,\n",
    "            n_initial_points=1, acq_func=\"EI\", acq_optimizer=\"lbfgs\", random_state=42)"
   ]
  },
  {
   "cell_type": "code",
   "execution_count": 106,
   "id": "be0e18fe",
   "metadata": {},
   "outputs": [
    {
     "data": {
      "text/plain": [
       "          fun: -0.35033589601516724\n",
       "    func_vals: array([-0.3503359 , -0.        , -0.34514442, -0.        , -0.        ,\n",
       "       -0.3503359 , -0.26482967, -0.08527238, -0.        , -0.09331193])\n",
       "       models: [GaussianProcessRegressor(kernel=1**2 * Matern(length_scale=[1, 1], nu=2.5) + WhiteKernel(noise_level=1),\n",
       "                         n_restarts_optimizer=2, noise='gaussian',\n",
       "                         normalize_y=True, random_state=1608637542), GaussianProcessRegressor(kernel=1**2 * Matern(length_scale=[1, 1], nu=2.5) + WhiteKernel(noise_level=1),\n",
       "                         n_restarts_optimizer=2, noise='gaussian',\n",
       "                         normalize_y=True, random_state=1608637542), GaussianProcessRegressor(kernel=1**2 * Matern(length_scale=[1, 1], nu=2.5) + WhiteKernel(noise_level=1),\n",
       "                         n_restarts_optimizer=2, noise='gaussian',\n",
       "                         normalize_y=True, random_state=1608637542), GaussianProcessRegressor(kernel=1**2 * Matern(length_scale=[1, 1], nu=2.5) + WhiteKernel(noise_level=1),\n",
       "                         n_restarts_optimizer=2, noise='gaussian',\n",
       "                         normalize_y=True, random_state=1608637542), GaussianProcessRegressor(kernel=1**2 * Matern(length_scale=[1, 1], nu=2.5) + WhiteKernel(noise_level=1),\n",
       "                         n_restarts_optimizer=2, noise='gaussian',\n",
       "                         normalize_y=True, random_state=1608637542), GaussianProcessRegressor(kernel=1**2 * Matern(length_scale=[1, 1], nu=2.5) + WhiteKernel(noise_level=1),\n",
       "                         n_restarts_optimizer=2, noise='gaussian',\n",
       "                         normalize_y=True, random_state=1608637542), GaussianProcessRegressor(kernel=1**2 * Matern(length_scale=[1, 1], nu=2.5) + WhiteKernel(noise_level=1),\n",
       "                         n_restarts_optimizer=2, noise='gaussian',\n",
       "                         normalize_y=True, random_state=1608637542), GaussianProcessRegressor(kernel=1**2 * Matern(length_scale=[1, 1], nu=2.5) + WhiteKernel(noise_level=1),\n",
       "                         n_restarts_optimizer=2, noise='gaussian',\n",
       "                         normalize_y=True, random_state=1608637542), GaussianProcessRegressor(kernel=1**2 * Matern(length_scale=[1, 1], nu=2.5) + WhiteKernel(noise_level=1),\n",
       "                         n_restarts_optimizer=2, noise='gaussian',\n",
       "                         normalize_y=True, random_state=1608637542), GaussianProcessRegressor(kernel=1**2 * Matern(length_scale=[1, 1], nu=2.5) + WhiteKernel(noise_level=1),\n",
       "                         n_restarts_optimizer=2, noise='gaussian',\n",
       "                         normalize_y=True, random_state=1608637542)]\n",
       " random_state: RandomState(MT19937) at 0x231E018BE40\n",
       "        space: Space([Real(low=0.001, high=100, prior='log-uniform', transform='normalize'),\n",
       "       Integer(low=1, high=1000, prior='log-uniform', transform='normalize')])\n",
       "        specs: {'args': {'func': <function tune_dbscan_sil at 0x00000231E0249DC0>, 'dimensions': Space([Real(low=0.001, high=100, prior='log-uniform', transform='normalize'),\n",
       "       Integer(low=1, high=1000, prior='log-uniform', transform='normalize')]), 'base_estimator': GaussianProcessRegressor(kernel=1**2 * Matern(length_scale=[1, 1], nu=2.5),\n",
       "                         n_restarts_optimizer=2, noise='gaussian',\n",
       "                         normalize_y=True, random_state=1608637542), 'n_calls': 10, 'n_random_starts': None, 'n_initial_points': 1, 'initial_point_generator': 'random', 'acq_func': 'EI', 'acq_optimizer': 'lbfgs', 'x0': None, 'y0': None, 'random_state': RandomState(MT19937) at 0x231E018BE40, 'verbose': False, 'callback': None, 'n_points': 10000, 'n_restarts_optimizer': 5, 'xi': 0.01, 'kappa': 1.96, 'n_jobs': 1, 'model_queue_size': None}, 'function': 'base_minimize'}\n",
       "            x: [9.609812947036422, 4]\n",
       "      x_iters: [[9.609812947036422, 4], [0.001, 1000], [9.433615897501168, 4], [32.012007966811645, 4], [12.714011361893165, 4], [9.609551800716451, 5], [7.41669830517351, 307], [5.612781932424391, 4], [0.31031173488430513, 6], [0.01633182332657513, 3]]"
      ]
     },
     "execution_count": 106,
     "metadata": {},
     "output_type": "execute_result"
    }
   ],
   "source": [
    "results"
   ]
  },
  {
   "cell_type": "code",
   "execution_count": 9,
   "id": "0d3e20a9",
   "metadata": {},
   "outputs": [],
   "source": [
    "from sklearn.feature_extraction.text import TfidfVectorizer\n",
    "from gensim.models.phrases import Phrases, Phraser"
   ]
  },
  {
   "cell_type": "code",
   "execution_count": 10,
   "id": "e13afde5",
   "metadata": {},
   "outputs": [],
   "source": [
    "# Initialise corpus\n",
    "sentences = list(feature_df.cleaned_summary.apply(lambda x: x.split()))\n",
    "# generate bigrams with gensim phraser\n",
    "phrases = Phrases(sentences, min_count=5, max_vocab_size=80000000, threshold=1)\n",
    "phraser = Phraser(phrases)\n",
    "X_corpus_full = tp.utils.Corpus()\n",
    "for line in sentences:\n",
    "    if len(line) == 0:\n",
    "        continue\n",
    "    X_corpus_full.add_doc(phraser[line])\n",
    "\n",
    "# this will create a corpus with a small sample for tuning hyperparameters\n",
    "sentences_sample = list(feature_df.cleaned_summary\n",
    "                        .sample(30000, random_state=42)\n",
    "                        .apply(lambda x: x.split()))\n",
    "phrases = Phrases(sentences_sample, min_count=5, max_vocab_size=80000000, threshold=1)\n",
    "phraser = Phraser(phrases)\n",
    "X_corpus = tp.utils.Corpus()\n",
    "for line in sentences_sample:\n",
    "    if len(line) == 0:\n",
    "        continue\n",
    "    X_corpus.add_doc(phraser[line])\n"
   ]
  },
  {
   "cell_type": "code",
   "execution_count": 12,
   "id": "2441b885",
   "metadata": {},
   "outputs": [],
   "source": [
    "def extract_kw_params(params, kw='tfidf'):\n",
    "    keys_to_extract = []\n",
    "    for k in params.keys():\n",
    "        if k.startswith(kw):\n",
    "            keys_to_extract.append(k)\n",
    "    \n",
    "    extracted_params = {}\n",
    "    for k in keys_to_extract:\n",
    "        item = params.pop(k, None)\n",
    "        new_key = k.split('_')[1]\n",
    "        extracted_params[new_key] = item\n",
    "        \n",
    "    return params, extracted_params"
   ]
  },
  {
   "cell_type": "code",
   "execution_count": 14,
   "id": "4dbea618",
   "metadata": {
    "scrolled": false
   },
   "outputs": [
    {
     "name": "stdout",
     "output_type": "stream",
     "text": [
      "Iteration No: 1 started. Evaluating function at random point.\n"
     ]
    },
    {
     "name": "stderr",
     "output_type": "stream",
     "text": [
      "C:\\Users\\Connor\\AppData\\Local\\Temp\\ipykernel_15340\\423949290.py:17: RuntimeWarning: The training result may differ even with fixed seed if `workers` != 1.\n",
      "  model.train(10, workers=0)\n"
     ]
    },
    {
     "name": "stdout",
     "output_type": "stream",
     "text": [
      "Iteration No: 1 ended. Evaluation done at random point.\n",
      "Time taken: 5.1180\n",
      "Function value obtained: 1758.4585\n",
      "Current minimum: 1758.4585\n",
      "Iteration No: 2 started. Searching for the next optimal point.\n"
     ]
    },
    {
     "name": "stderr",
     "output_type": "stream",
     "text": [
      "C:\\Users\\Connor\\AppData\\Local\\Temp\\ipykernel_15340\\423949290.py:17: RuntimeWarning: The training result may differ even with fixed seed if `workers` != 1.\n",
      "  model.train(10, workers=0)\n"
     ]
    },
    {
     "name": "stdout",
     "output_type": "stream",
     "text": [
      "Iteration No: 2 ended. Search finished for the next optimal point.\n",
      "Time taken: 9.7860\n",
      "Function value obtained: 151.1467\n",
      "Current minimum: 151.1467\n",
      "Iteration No: 3 started. Searching for the next optimal point.\n"
     ]
    },
    {
     "name": "stderr",
     "output_type": "stream",
     "text": [
      "C:\\Users\\Connor\\AppData\\Local\\Temp\\ipykernel_15340\\423949290.py:17: RuntimeWarning: The training result may differ even with fixed seed if `workers` != 1.\n",
      "  model.train(10, workers=0)\n"
     ]
    },
    {
     "name": "stdout",
     "output_type": "stream",
     "text": [
      "Iteration No: 3 ended. Search finished for the next optimal point.\n",
      "Time taken: 20.8750\n",
      "Function value obtained: 185.4926\n",
      "Current minimum: 151.1467\n",
      "Iteration No: 4 started. Searching for the next optimal point.\n"
     ]
    },
    {
     "name": "stderr",
     "output_type": "stream",
     "text": [
      "C:\\Users\\Connor\\AppData\\Local\\Temp\\ipykernel_15340\\423949290.py:17: RuntimeWarning: The training result may differ even with fixed seed if `workers` != 1.\n",
      "  model.train(10, workers=0)\n"
     ]
    },
    {
     "name": "stdout",
     "output_type": "stream",
     "text": [
      "Iteration No: 4 ended. Search finished for the next optimal point.\n",
      "Time taken: 7.6250\n",
      "Function value obtained: 3639.2385\n",
      "Current minimum: 151.1467\n",
      "Iteration No: 5 started. Searching for the next optimal point.\n"
     ]
    },
    {
     "name": "stderr",
     "output_type": "stream",
     "text": [
      "C:\\Users\\Connor\\AppData\\Local\\Temp\\ipykernel_15340\\423949290.py:17: RuntimeWarning: The training result may differ even with fixed seed if `workers` != 1.\n",
      "  model.train(10, workers=0)\n"
     ]
    },
    {
     "name": "stdout",
     "output_type": "stream",
     "text": [
      "Iteration No: 5 ended. Search finished for the next optimal point.\n",
      "Time taken: 41.2740\n",
      "Function value obtained: 926.4440\n",
      "Current minimum: 151.1467\n",
      "Iteration No: 6 started. Searching for the next optimal point.\n"
     ]
    },
    {
     "name": "stderr",
     "output_type": "stream",
     "text": [
      "C:\\Users\\Connor\\AppData\\Local\\Temp\\ipykernel_15340\\423949290.py:17: RuntimeWarning: The training result may differ even with fixed seed if `workers` != 1.\n",
      "  model.train(10, workers=0)\n"
     ]
    },
    {
     "name": "stdout",
     "output_type": "stream",
     "text": [
      "Iteration No: 6 ended. Search finished for the next optimal point.\n",
      "Time taken: 25.5060\n",
      "Function value obtained: 450.6761\n",
      "Current minimum: 151.1467\n",
      "Iteration No: 7 started. Searching for the next optimal point.\n"
     ]
    },
    {
     "name": "stderr",
     "output_type": "stream",
     "text": [
      "C:\\Users\\Connor\\AppData\\Local\\Temp\\ipykernel_15340\\423949290.py:17: RuntimeWarning: The training result may differ even with fixed seed if `workers` != 1.\n",
      "  model.train(10, workers=0)\n"
     ]
    },
    {
     "name": "stdout",
     "output_type": "stream",
     "text": [
      "Iteration No: 7 ended. Search finished for the next optimal point.\n",
      "Time taken: 64.4480\n",
      "Function value obtained: 312.4969\n",
      "Current minimum: 151.1467\n",
      "Iteration No: 8 started. Searching for the next optimal point.\n"
     ]
    },
    {
     "name": "stderr",
     "output_type": "stream",
     "text": [
      "C:\\Users\\Connor\\AppData\\Local\\Temp\\ipykernel_15340\\423949290.py:17: RuntimeWarning: The training result may differ even with fixed seed if `workers` != 1.\n",
      "  model.train(10, workers=0)\n"
     ]
    },
    {
     "name": "stdout",
     "output_type": "stream",
     "text": [
      "Iteration No: 8 ended. Search finished for the next optimal point.\n",
      "Time taken: 39.5720\n",
      "Function value obtained: 161.8707\n",
      "Current minimum: 151.1467\n",
      "Iteration No: 9 started. Searching for the next optimal point.\n"
     ]
    },
    {
     "name": "stderr",
     "output_type": "stream",
     "text": [
      "C:\\Users\\Connor\\AppData\\Local\\Temp\\ipykernel_15340\\423949290.py:17: RuntimeWarning: The training result may differ even with fixed seed if `workers` != 1.\n",
      "  model.train(10, workers=0)\n"
     ]
    },
    {
     "name": "stdout",
     "output_type": "stream",
     "text": [
      "Iteration No: 9 ended. Search finished for the next optimal point.\n",
      "Time taken: 25.8610\n",
      "Function value obtained: 335.7179\n",
      "Current minimum: 151.1467\n",
      "Iteration No: 10 started. Searching for the next optimal point.\n"
     ]
    },
    {
     "name": "stderr",
     "output_type": "stream",
     "text": [
      "C:\\Users\\Connor\\AppData\\Local\\Temp\\ipykernel_15340\\423949290.py:17: RuntimeWarning: The training result may differ even with fixed seed if `workers` != 1.\n",
      "  model.train(10, workers=0)\n"
     ]
    },
    {
     "name": "stdout",
     "output_type": "stream",
     "text": [
      "Iteration No: 10 ended. Search finished for the next optimal point.\n",
      "Time taken: 12.5830\n",
      "Function value obtained: 160.7520\n",
      "Current minimum: 151.1467\n",
      "Iteration No: 11 started. Searching for the next optimal point.\n"
     ]
    },
    {
     "name": "stderr",
     "output_type": "stream",
     "text": [
      "C:\\Users\\Connor\\anaconda3\\lib\\site-packages\\skopt\\optimizer\\optimizer.py:449: UserWarning: The objective has been evaluated at this point before.\n",
      "  warnings.warn(\"The objective has been evaluated \"\n",
      "C:\\Users\\Connor\\AppData\\Local\\Temp\\ipykernel_15340\\423949290.py:17: RuntimeWarning: The training result may differ even with fixed seed if `workers` != 1.\n",
      "  model.train(10, workers=0)\n"
     ]
    },
    {
     "name": "stdout",
     "output_type": "stream",
     "text": [
      "Iteration No: 11 ended. Search finished for the next optimal point.\n",
      "Time taken: 10.5160\n",
      "Function value obtained: 151.1467\n",
      "Current minimum: 151.1467\n",
      "Iteration No: 12 started. Searching for the next optimal point.\n"
     ]
    },
    {
     "name": "stderr",
     "output_type": "stream",
     "text": [
      "C:\\Users\\Connor\\AppData\\Local\\Temp\\ipykernel_15340\\423949290.py:17: RuntimeWarning: The training result may differ even with fixed seed if `workers` != 1.\n",
      "  model.train(10, workers=0)\n"
     ]
    },
    {
     "name": "stdout",
     "output_type": "stream",
     "text": [
      "Iteration No: 12 ended. Search finished for the next optimal point.\n",
      "Time taken: 6.6900\n",
      "Function value obtained: 222.4703\n",
      "Current minimum: 151.1467\n",
      "Iteration No: 13 started. Searching for the next optimal point.\n"
     ]
    },
    {
     "name": "stderr",
     "output_type": "stream",
     "text": [
      "C:\\Users\\Connor\\anaconda3\\lib\\site-packages\\skopt\\optimizer\\optimizer.py:449: UserWarning: The objective has been evaluated at this point before.\n",
      "  warnings.warn(\"The objective has been evaluated \"\n",
      "C:\\Users\\Connor\\AppData\\Local\\Temp\\ipykernel_15340\\423949290.py:17: RuntimeWarning: The training result may differ even with fixed seed if `workers` != 1.\n",
      "  model.train(10, workers=0)\n"
     ]
    },
    {
     "name": "stdout",
     "output_type": "stream",
     "text": [
      "Iteration No: 13 ended. Search finished for the next optimal point.\n",
      "Time taken: 10.4990\n",
      "Function value obtained: 151.1467\n",
      "Current minimum: 151.1467\n",
      "Iteration No: 14 started. Searching for the next optimal point.\n"
     ]
    },
    {
     "name": "stderr",
     "output_type": "stream",
     "text": [
      "C:\\Users\\Connor\\AppData\\Local\\Temp\\ipykernel_15340\\423949290.py:17: RuntimeWarning: The training result may differ even with fixed seed if `workers` != 1.\n",
      "  model.train(10, workers=0)\n"
     ]
    },
    {
     "name": "stdout",
     "output_type": "stream",
     "text": [
      "Iteration No: 14 ended. Search finished for the next optimal point.\n",
      "Time taken: 10.0260\n",
      "Function value obtained: 349.7006\n",
      "Current minimum: 151.1467\n",
      "Iteration No: 15 started. Searching for the next optimal point.\n"
     ]
    },
    {
     "name": "stderr",
     "output_type": "stream",
     "text": [
      "C:\\Users\\Connor\\AppData\\Local\\Temp\\ipykernel_15340\\423949290.py:17: RuntimeWarning: The training result may differ even with fixed seed if `workers` != 1.\n",
      "  model.train(10, workers=0)\n"
     ]
    },
    {
     "name": "stdout",
     "output_type": "stream",
     "text": [
      "Iteration No: 15 ended. Search finished for the next optimal point.\n",
      "Time taken: 3.1340\n",
      "Function value obtained: 224.7413\n",
      "Current minimum: 151.1467\n",
      "Iteration No: 16 started. Searching for the next optimal point.\n"
     ]
    },
    {
     "name": "stderr",
     "output_type": "stream",
     "text": [
      "C:\\Users\\Connor\\AppData\\Local\\Temp\\ipykernel_15340\\423949290.py:17: RuntimeWarning: The training result may differ even with fixed seed if `workers` != 1.\n",
      "  model.train(10, workers=0)\n"
     ]
    },
    {
     "name": "stdout",
     "output_type": "stream",
     "text": [
      "Iteration No: 16 ended. Search finished for the next optimal point.\n",
      "Time taken: 15.3540\n",
      "Function value obtained: 3619.7606\n",
      "Current minimum: 151.1467\n",
      "Iteration No: 17 started. Searching for the next optimal point.\n"
     ]
    },
    {
     "name": "stderr",
     "output_type": "stream",
     "text": [
      "C:\\Users\\Connor\\AppData\\Local\\Temp\\ipykernel_15340\\423949290.py:17: RuntimeWarning: The training result may differ even with fixed seed if `workers` != 1.\n",
      "  model.train(10, workers=0)\n"
     ]
    },
    {
     "name": "stdout",
     "output_type": "stream",
     "text": [
      "Iteration No: 17 ended. Search finished for the next optimal point.\n",
      "Time taken: 13.1940\n",
      "Function value obtained: 250.4423\n",
      "Current minimum: 151.1467\n",
      "Iteration No: 18 started. Searching for the next optimal point.\n"
     ]
    },
    {
     "name": "stderr",
     "output_type": "stream",
     "text": [
      "C:\\Users\\Connor\\AppData\\Local\\Temp\\ipykernel_15340\\423949290.py:17: RuntimeWarning: The training result may differ even with fixed seed if `workers` != 1.\n",
      "  model.train(10, workers=0)\n"
     ]
    },
    {
     "name": "stdout",
     "output_type": "stream",
     "text": [
      "Iteration No: 18 ended. Search finished for the next optimal point.\n",
      "Time taken: 13.0330\n",
      "Function value obtained: 206.6807\n",
      "Current minimum: 151.1467\n",
      "Iteration No: 19 started. Searching for the next optimal point.\n"
     ]
    },
    {
     "name": "stderr",
     "output_type": "stream",
     "text": [
      "C:\\Users\\Connor\\AppData\\Local\\Temp\\ipykernel_15340\\423949290.py:17: RuntimeWarning: The training result may differ even with fixed seed if `workers` != 1.\n",
      "  model.train(10, workers=0)\n"
     ]
    },
    {
     "name": "stdout",
     "output_type": "stream",
     "text": [
      "Iteration No: 19 ended. Search finished for the next optimal point.\n",
      "Time taken: 4.0420\n",
      "Function value obtained: 213.5018\n",
      "Current minimum: 151.1467\n",
      "Iteration No: 20 started. Searching for the next optimal point.\n"
     ]
    },
    {
     "name": "stderr",
     "output_type": "stream",
     "text": [
      "C:\\Users\\Connor\\AppData\\Local\\Temp\\ipykernel_15340\\423949290.py:17: RuntimeWarning: The training result may differ even with fixed seed if `workers` != 1.\n",
      "  model.train(10, workers=0)\n"
     ]
    },
    {
     "name": "stdout",
     "output_type": "stream",
     "text": [
      "Iteration No: 20 ended. Search finished for the next optimal point.\n",
      "Time taken: 8.5970\n",
      "Function value obtained: 271.0476\n",
      "Current minimum: 151.1467\n",
      "Iteration No: 21 started. Searching for the next optimal point.\n"
     ]
    },
    {
     "name": "stderr",
     "output_type": "stream",
     "text": [
      "C:\\Users\\Connor\\AppData\\Local\\Temp\\ipykernel_15340\\423949290.py:17: RuntimeWarning: The training result may differ even with fixed seed if `workers` != 1.\n",
      "  model.train(10, workers=0)\n"
     ]
    },
    {
     "name": "stdout",
     "output_type": "stream",
     "text": [
      "Iteration No: 21 ended. Search finished for the next optimal point.\n",
      "Time taken: 12.0270\n",
      "Function value obtained: 183.3858\n",
      "Current minimum: 151.1467\n",
      "Iteration No: 22 started. Searching for the next optimal point.\n"
     ]
    },
    {
     "name": "stderr",
     "output_type": "stream",
     "text": [
      "C:\\Users\\Connor\\AppData\\Local\\Temp\\ipykernel_15340\\423949290.py:17: RuntimeWarning: The training result may differ even with fixed seed if `workers` != 1.\n",
      "  model.train(10, workers=0)\n"
     ]
    },
    {
     "name": "stdout",
     "output_type": "stream",
     "text": [
      "Iteration No: 22 ended. Search finished for the next optimal point.\n",
      "Time taken: 28.0480\n",
      "Function value obtained: 592.5380\n",
      "Current minimum: 151.1467\n",
      "Iteration No: 23 started. Searching for the next optimal point.\n"
     ]
    },
    {
     "name": "stderr",
     "output_type": "stream",
     "text": [
      "C:\\Users\\Connor\\AppData\\Local\\Temp\\ipykernel_15340\\423949290.py:17: RuntimeWarning: The training result may differ even with fixed seed if `workers` != 1.\n",
      "  model.train(10, workers=0)\n"
     ]
    },
    {
     "name": "stdout",
     "output_type": "stream",
     "text": [
      "Iteration No: 23 ended. Search finished for the next optimal point.\n",
      "Time taken: 7.1400\n",
      "Function value obtained: 395.3800\n",
      "Current minimum: 151.1467\n",
      "Iteration No: 24 started. Searching for the next optimal point.\n"
     ]
    },
    {
     "name": "stderr",
     "output_type": "stream",
     "text": [
      "C:\\Users\\Connor\\AppData\\Local\\Temp\\ipykernel_15340\\423949290.py:17: RuntimeWarning: The training result may differ even with fixed seed if `workers` != 1.\n",
      "  model.train(10, workers=0)\n"
     ]
    },
    {
     "name": "stdout",
     "output_type": "stream",
     "text": [
      "Iteration No: 24 ended. Search finished for the next optimal point.\n",
      "Time taken: 4.2670\n",
      "Function value obtained: 281.4086\n",
      "Current minimum: 151.1467\n",
      "Iteration No: 25 started. Searching for the next optimal point.\n"
     ]
    },
    {
     "name": "stderr",
     "output_type": "stream",
     "text": [
      "C:\\Users\\Connor\\AppData\\Local\\Temp\\ipykernel_15340\\423949290.py:17: RuntimeWarning: The training result may differ even with fixed seed if `workers` != 1.\n",
      "  model.train(10, workers=0)\n"
     ]
    },
    {
     "name": "stdout",
     "output_type": "stream",
     "text": [
      "Iteration No: 25 ended. Search finished for the next optimal point.\n",
      "Time taken: 5.4330\n",
      "Function value obtained: 142.2414\n",
      "Current minimum: 142.2414\n"
     ]
    }
   ],
   "source": [
    "# tune these parameters\n",
    "space = [Integer(10, 100, name='k'), \n",
    "         Real(0.0001, 1, prior='log-uniform', name='alpha'), \n",
    "         Real(0.0001, 1, prior='log-uniform', name='eta'),\n",
    "         Integer(5, 15, name='rm_top'),\n",
    "         Integer(5, 200, name='min_df')]\n",
    "\n",
    "@use_named_args(space)\n",
    "def score_tomotopy_lda_model(**params):\n",
    "    # objective function for LDA evaluated with perplexity\n",
    "    model = tp.LDAModel(seed=42, corpus=X_corpus, **params)\n",
    "    best_perplexity = np.inf\n",
    "    tolerance = 0.001  \n",
    "    patience = 20 \n",
    "    wait = 0\n",
    "    for i in range(500): \n",
    "        model.train(10, workers=0)\n",
    "        perplexity = model.perplexity\n",
    "        if best_perplexity - perplexity > tolerance:\n",
    "            best_perplexity = perplexity\n",
    "            wait = 0\n",
    "        else:\n",
    "            wait += 1\n",
    "            if wait > patience:\n",
    "                break\n",
    "    return best_perplexity\n",
    "\n",
    "# optimize for low perplexity\n",
    "lda_results = gp_minimize(func=score_tomotopy_lda_model, dimensions=space, n_calls=25,\n",
    "            n_initial_points=1, acq_func=\"EI\", acq_optimizer=\"lbfgs\", random_state=42, verbose=True)"
   ]
  },
  {
   "cell_type": "code",
   "execution_count": 15,
   "id": "ae7f5abd",
   "metadata": {},
   "outputs": [
    {
     "data": {
      "text/plain": [
       "[10, 1.0, 0.0001, 15, 200]"
      ]
     },
     "execution_count": 15,
     "metadata": {},
     "output_type": "execute_result"
    }
   ],
   "source": [
    "lda_results.x"
   ]
  },
  {
   "cell_type": "code",
   "execution_count": 16,
   "id": "c358c803",
   "metadata": {
    "scrolled": true
   },
   "outputs": [
    {
     "name": "stderr",
     "output_type": "stream",
     "text": [
      "C:\\Users\\Connor\\AppData\\Local\\Temp\\ipykernel_15340\\2716589918.py:9: RuntimeWarning: The training result may differ even with fixed seed if `workers` != 1.\n",
      "  lda_model.train(10, workers=0)\n"
     ]
    },
    {
     "name": "stdout",
     "output_type": "stream",
     "text": [
      "<Basic Info>\n",
      "| LDAModel (current version: 0.12.4)\n",
      "| 141151 docs, 412665 words\n",
      "| Total Vocabs: 62316, Used Vocabs: 690\n",
      "| Entropy of words: 6.23479\n",
      "| Entropy of term-weighted words: 6.23479\n",
      "| Removed Vocabs: light sky object ufo saw craft bright nuforc_note seen bright_light two moving one 3 hovering\n",
      "|\n",
      "<Training Info>\n",
      "| Iterations: 2500, Burn-in steps: 0\n",
      "| Optimization Interval: 10\n",
      "| Log-likelihood per word: -6.74310\n",
      "|\n",
      "<Initial Parameters>\n",
      "| tw: TermWeight.ONE\n",
      "| min_cf: 0 (minimum collection frequency of words)\n",
      "| min_df: 200 (minimum document frequency of words)\n",
      "| rm_top: 15 (the number of top words to be removed)\n",
      "| k: 10 (the number of topics between 1 ~ 32767)\n",
      "| alpha: [1.] (hyperparameter of Dirichlet distribution for document-topic, given as a single `float` in case of symmetric prior and as a list with length `k` of `float` in case of asymmetric prior.)\n",
      "| eta: 0.0001 (hyperparameter of Dirichlet distribution for topic-word)\n",
      "| seed: 42 (random seed)\n",
      "| trained in version 0.12.4\n",
      "|\n",
      "<Parameters>\n",
      "| alpha (Dirichlet prior on the per-document topic distributions)\n",
      "|  [0.6829955  0.8635101  0.65991944 0.5653859  0.70831835 0.4246716\n",
      "|   0.49426582 0.41697544 0.78417486 0.49756283]\n",
      "| eta (Dirichlet prior on the per-topic word distribution)\n",
      "|  0.0001\n",
      "|\n",
      "<Topics>\n",
      "| #0 (46302) : white red flashing_light white_light flashing\n",
      "| #1 (58276) : white_light red_light triangle sound ball\n",
      "| #2 (45842) : star looked_like like looked moon\n",
      "| #3 (40581) : driving house noticed around night\n",
      "| #4 (46521) : near spotted north area flying\n",
      "| #5 (28165) : pd cloud fireball orb sphere\n",
      "| #6 (32258) : formation madar_node night_sky starlink_satellite line\n",
      "| #7 (27730) : sighting report witness time pd\n",
      "| #8 (52961) : disappeared west south horizon second\n",
      "| #9 (34029) : speed sound fast light_moving across_sky\n",
      "|\n",
      "\n"
     ]
    }
   ],
   "source": [
    "# train model with best parameters\n",
    "k, alpha, eta, rm_top, min_df = lda_results.x\n",
    "lda_model = tp.LDAModel(seed=42, corpus=X_corpus_full, k=k, alpha=alpha, eta=eta, rm_top=rm_top, min_df=min_df)\n",
    "best_perplexity = np.inf\n",
    "tolerance = 0.001  \n",
    "patience = 20 \n",
    "wait = 0\n",
    "for i in range(0, 2500, 10): \n",
    "    lda_model.train(10, workers=0)\n",
    "    perplexity = lda_model.perplexity\n",
    "    if best_perplexity - perplexity > tolerance:\n",
    "        best_perplexity = perplexity\n",
    "        wait = 0\n",
    "    else:\n",
    "        wait += 1\n",
    "        if wait > patience:\n",
    "            break\n",
    "lda_model.summary()"
   ]
  },
  {
   "cell_type": "code",
   "execution_count": 64,
   "id": "d81f2041",
   "metadata": {},
   "outputs": [
    {
     "name": "stderr",
     "output_type": "stream",
     "text": [
      "C:\\Users\\Connor\\AppData\\Local\\Temp\\ipykernel_15340\\47908035.py:12: RuntimeWarning: The training result may differ even with fixed seed if `workers` != 1.\n",
      "  model.train(10)\n",
      "C:\\Users\\Connor\\AppData\\Local\\Temp\\ipykernel_15340\\47908035.py:12: RuntimeWarning: The training result may differ even with fixed seed if `workers` != 1.\n",
      "  model.train(10)\n",
      "C:\\Users\\Connor\\AppData\\Local\\Temp\\ipykernel_15340\\47908035.py:12: RuntimeWarning: The training result may differ even with fixed seed if `workers` != 1.\n",
      "  model.train(10)\n",
      "C:\\Users\\Connor\\AppData\\Local\\Temp\\ipykernel_15340\\47908035.py:12: RuntimeWarning: The training result may differ even with fixed seed if `workers` != 1.\n",
      "  model.train(10)\n",
      "C:\\Users\\Connor\\AppData\\Local\\Temp\\ipykernel_15340\\47908035.py:12: RuntimeWarning: The training result may differ even with fixed seed if `workers` != 1.\n",
      "  model.train(10)\n",
      "C:\\Users\\Connor\\AppData\\Local\\Temp\\ipykernel_15340\\47908035.py:12: RuntimeWarning: The training result may differ even with fixed seed if `workers` != 1.\n",
      "  model.train(10)\n",
      "C:\\Users\\Connor\\AppData\\Local\\Temp\\ipykernel_15340\\47908035.py:12: RuntimeWarning: The training result may differ even with fixed seed if `workers` != 1.\n",
      "  model.train(10)\n",
      "C:\\Users\\Connor\\AppData\\Local\\Temp\\ipykernel_15340\\47908035.py:12: RuntimeWarning: The training result may differ even with fixed seed if `workers` != 1.\n",
      "  model.train(10)\n",
      "C:\\Users\\Connor\\AppData\\Local\\Temp\\ipykernel_15340\\47908035.py:12: RuntimeWarning: The training result may differ even with fixed seed if `workers` != 1.\n",
      "  model.train(10)\n",
      "C:\\Users\\Connor\\AppData\\Local\\Temp\\ipykernel_15340\\47908035.py:12: RuntimeWarning: The training result may differ even with fixed seed if `workers` != 1.\n",
      "  model.train(10)\n",
      "C:\\Users\\Connor\\AppData\\Local\\Temp\\ipykernel_15340\\47908035.py:12: RuntimeWarning: The training result may differ even with fixed seed if `workers` != 1.\n",
      "  model.train(10)\n",
      "C:\\Users\\Connor\\AppData\\Local\\Temp\\ipykernel_15340\\47908035.py:12: RuntimeWarning: The training result may differ even with fixed seed if `workers` != 1.\n",
      "  model.train(10)\n",
      "C:\\Users\\Connor\\AppData\\Local\\Temp\\ipykernel_15340\\47908035.py:12: RuntimeWarning: The training result may differ even with fixed seed if `workers` != 1.\n",
      "  model.train(10)\n",
      "C:\\Users\\Connor\\AppData\\Local\\Temp\\ipykernel_15340\\47908035.py:12: RuntimeWarning: The training result may differ even with fixed seed if `workers` != 1.\n",
      "  model.train(10)\n",
      "C:\\Users\\Connor\\AppData\\Local\\Temp\\ipykernel_15340\\47908035.py:12: RuntimeWarning: The training result may differ even with fixed seed if `workers` != 1.\n",
      "  model.train(10)\n",
      "C:\\Users\\Connor\\AppData\\Local\\Temp\\ipykernel_15340\\47908035.py:12: RuntimeWarning: The training result may differ even with fixed seed if `workers` != 1.\n",
      "  model.train(10)\n",
      "C:\\Users\\Connor\\AppData\\Local\\Temp\\ipykernel_15340\\47908035.py:12: RuntimeWarning: The training result may differ even with fixed seed if `workers` != 1.\n",
      "  model.train(10)\n",
      "C:\\Users\\Connor\\AppData\\Local\\Temp\\ipykernel_15340\\47908035.py:12: RuntimeWarning: The training result may differ even with fixed seed if `workers` != 1.\n",
      "  model.train(10)\n",
      "C:\\Users\\Connor\\AppData\\Local\\Temp\\ipykernel_15340\\47908035.py:12: RuntimeWarning: The training result may differ even with fixed seed if `workers` != 1.\n",
      "  model.train(10)\n",
      "C:\\Users\\Connor\\AppData\\Local\\Temp\\ipykernel_15340\\47908035.py:12: RuntimeWarning: The training result may differ even with fixed seed if `workers` != 1.\n",
      "  model.train(10)\n",
      "C:\\Users\\Connor\\AppData\\Local\\Temp\\ipykernel_15340\\47908035.py:12: RuntimeWarning: The training result may differ even with fixed seed if `workers` != 1.\n",
      "  model.train(10)\n",
      "C:\\Users\\Connor\\AppData\\Local\\Temp\\ipykernel_15340\\47908035.py:12: RuntimeWarning: The training result may differ even with fixed seed if `workers` != 1.\n",
      "  model.train(10)\n",
      "C:\\Users\\Connor\\AppData\\Local\\Temp\\ipykernel_15340\\47908035.py:12: RuntimeWarning: The training result may differ even with fixed seed if `workers` != 1.\n",
      "  model.train(10)\n",
      "C:\\Users\\Connor\\AppData\\Local\\Temp\\ipykernel_15340\\47908035.py:12: RuntimeWarning: The training result may differ even with fixed seed if `workers` != 1.\n",
      "  model.train(10)\n",
      "C:\\Users\\Connor\\AppData\\Local\\Temp\\ipykernel_15340\\47908035.py:12: RuntimeWarning: The training result may differ even with fixed seed if `workers` != 1.\n",
      "  model.train(10)\n"
     ]
    }
   ],
   "source": [
    "space_hdp = [Integer(0, 30, name='rm_top'),\n",
    "         Integer(5, 4000, name='min_df')]\n",
    "\n",
    "@use_named_args(space_hdp)\n",
    "def score_tomotopy_hdp_model(**params):\n",
    "    model = tp.HDPModel(seed=42, corpus=X_corpus, **params)\n",
    "    best_perplexity = 9999\n",
    "    tolerance = 0.001  \n",
    "    patience = 5 \n",
    "    wait = 0\n",
    "    for i in range(0, 150, 10): \n",
    "        model.train(10)\n",
    "        perplexity = model.perplexity\n",
    "        if best_perplexity - perplexity > tolerance:\n",
    "            best_perplexity = perplexity\n",
    "            wait = 0\n",
    "        else:\n",
    "            wait += 1\n",
    "            if wait > patience:\n",
    "                break\n",
    "    return best_perplexity\n",
    "    \n",
    "hdp_results = gp_minimize(func=score_tomotopy_hdp_model, dimensions=space_hdp, n_calls=25,\n",
    "            n_initial_points=1, acq_func=\"EI\", acq_optimizer=\"lbfgs\", random_state=42)"
   ]
  },
  {
   "cell_type": "code",
   "execution_count": 65,
   "id": "268c5c14",
   "metadata": {},
   "outputs": [
    {
     "data": {
      "text/plain": [
       "[0, 3892]"
      ]
     },
     "execution_count": 65,
     "metadata": {},
     "output_type": "execute_result"
    }
   ],
   "source": [
    "hdp_results.x"
   ]
  },
  {
   "cell_type": "code",
   "execution_count": 66,
   "id": "b51b19df",
   "metadata": {
    "scrolled": false
   },
   "outputs": [
    {
     "name": "stderr",
     "output_type": "stream",
     "text": [
      "C:\\Users\\Connor\\AppData\\Local\\Temp\\ipykernel_15340\\2489572946.py:8: RuntimeWarning: The training result may differ even with fixed seed if `workers` != 1.\n",
      "  hdp_model.train(10, workers=0)\n"
     ]
    },
    {
     "name": "stdout",
     "output_type": "stream",
     "text": [
      "<Basic Info>\n",
      "| HDPModel (current version: 0.12.4)\n",
      "| 141151 docs, 104950 words\n",
      "| Total Vocabs: 62316, Used Vocabs: 12\n",
      "| Entropy of words: 2.24135\n",
      "| Entropy of term-weighted words: 2.24135\n",
      "| Removed Vocabs: <NA>\n",
      "|\n",
      "<Training Info>\n",
      "| Iterations: 310, Burn-in steps: 0\n",
      "| Optimization Interval: 10\n",
      "| Log-likelihood per word: -2.75603\n",
      "|\n",
      "<Initial Parameters>\n",
      "| tw: TermWeight.ONE\n",
      "| min_cf: 0 (minimum collection frequency of words)\n",
      "| min_df: 3892 (minimum document frequency of words)\n",
      "| rm_top: 0 (the number of top words to be removed)\n",
      "| initial_k: 2 (the initial number of topics between 2 ~ 32767 The number of topics will be adjusted for data during training)\n",
      "| alpha: 0.1 (concentration coeficient of Dirichlet Process for document-table )\n",
      "| eta: 0.01 (hyperparameter of Dirichlet distribution for topic-word)\n",
      "| gamma: 0.1 (concentration coeficient of Dirichlet Process for table-topic)\n",
      "| seed: 42 (random seed)\n",
      "| trained in version 0.12.4\n",
      "|\n",
      "<Parameters>\n",
      "| alpha (concentration coefficient of Dirichlet Process for document-table)\n",
      "|  1.7097e-05\n",
      "| eta (Dirichlet prior on the per-topic word distribution)\n",
      "|  0.01\n",
      "| gamma (concentration coefficient of Dirichlet Process for table-topic)\n",
      "|  0.35046\n",
      "| Number of Topics: 5\n",
      "| Number of Tables: 75606\n",
      "|\n",
      "<Topics>\n",
      "| #0 (50542) : light sky object bright saw\n",
      "| #1 (52175) : light sky object ufo seen\n",
      "| #2 (1925) : craft light saw two moving\n",
      "| #3 (89) : craft two light sky object\n",
      "| #6 (219) : ufo light sky object saw\n",
      "|\n",
      "\n"
     ]
    }
   ],
   "source": [
    "rm_top, min_df = hdp_results.x\n",
    "hdp_model = tp.HDPModel(seed=42, corpus=X_corpus_full, rm_top=rm_top, min_df=min_df)\n",
    "best_perplexity = 9999\n",
    "tolerance = 0.001  \n",
    "patience = 20 \n",
    "wait = 0\n",
    "for i in range(0, 500, 10): \n",
    "    hdp_model.train(10, workers=0)\n",
    "    perplexity = hdp_model.perplexity\n",
    "    if best_perplexity - perplexity > tolerance:\n",
    "        best_perplexity = perplexity\n",
    "        wait = 0\n",
    "    else:\n",
    "        wait += 1\n",
    "        if wait > patience:\n",
    "            break\n",
    "hdp_model.summary()"
   ]
  },
  {
   "cell_type": "code",
   "execution_count": 67,
   "id": "8d1f5c45",
   "metadata": {},
   "outputs": [
    {
     "data": {
      "text/plain": [
       "15.737168249763885"
      ]
     },
     "execution_count": 67,
     "metadata": {},
     "output_type": "execute_result"
    }
   ],
   "source": [
    "hdp_model.perplexity"
   ]
  },
  {
   "cell_type": "code",
   "execution_count": 17,
   "id": "4b192c30",
   "metadata": {},
   "outputs": [
    {
     "data": {
      "text/plain": [
       "848.1879192787633"
      ]
     },
     "execution_count": 17,
     "metadata": {},
     "output_type": "execute_result"
    }
   ],
   "source": [
    "lda_model.perplexity"
   ]
  },
  {
   "cell_type": "code",
   "execution_count": 18,
   "id": "9a0416cb",
   "metadata": {},
   "outputs": [
    {
     "ename": "KeyboardInterrupt",
     "evalue": "",
     "output_type": "error",
     "traceback": [
      "\u001b[1;31m---------------------------------------------------------------------------\u001b[0m",
      "\u001b[1;31mKeyboardInterrupt\u001b[0m                         Traceback (most recent call last)",
      "Input \u001b[1;32mIn [18]\u001b[0m, in \u001b[0;36m<cell line: 15>\u001b[1;34m()\u001b[0m\n\u001b[0;32m     12\u001b[0m         topics \u001b[38;5;241m=\u001b[39m \u001b[38;5;124m'\u001b[39m\u001b[38;5;124m-1\u001b[39m\u001b[38;5;124m'\u001b[39m\n\u001b[0;32m     13\u001b[0m     \u001b[38;5;28;01mreturn\u001b[39;00m topics\n\u001b[1;32m---> 15\u001b[0m feature_df[\u001b[38;5;124m'\u001b[39m\u001b[38;5;124mlda_topics\u001b[39m\u001b[38;5;124m'\u001b[39m] \u001b[38;5;241m=\u001b[39m \u001b[43mfeature_df\u001b[49m\u001b[38;5;241;43m.\u001b[39;49m\u001b[43mcleaned_summary\u001b[49m\u001b[38;5;241;43m.\u001b[39;49m\u001b[43mapply\u001b[49m\u001b[43m(\u001b[49m\u001b[43mget_topics\u001b[49m\u001b[43m,\u001b[49m\u001b[43m \u001b[49m\u001b[43mmodel\u001b[49m\u001b[38;5;241;43m=\u001b[39;49m\u001b[43mlda_model\u001b[49m\u001b[43m)\u001b[49m\n\u001b[0;32m     16\u001b[0m feature_df[\u001b[38;5;124m'\u001b[39m\u001b[38;5;124mhdp_topics\u001b[39m\u001b[38;5;124m'\u001b[39m] \u001b[38;5;241m=\u001b[39m feature_df\u001b[38;5;241m.\u001b[39mcleaned_summary\u001b[38;5;241m.\u001b[39mapply(get_topics, model\u001b[38;5;241m=\u001b[39mhdp_model)\n",
      "File \u001b[1;32m~\\anaconda3\\lib\\site-packages\\pandas\\core\\series.py:4433\u001b[0m, in \u001b[0;36mSeries.apply\u001b[1;34m(self, func, convert_dtype, args, **kwargs)\u001b[0m\n\u001b[0;32m   4323\u001b[0m \u001b[38;5;28;01mdef\u001b[39;00m \u001b[38;5;21mapply\u001b[39m(\n\u001b[0;32m   4324\u001b[0m     \u001b[38;5;28mself\u001b[39m,\n\u001b[0;32m   4325\u001b[0m     func: AggFuncType,\n\u001b[1;32m   (...)\u001b[0m\n\u001b[0;32m   4328\u001b[0m     \u001b[38;5;241m*\u001b[39m\u001b[38;5;241m*\u001b[39mkwargs,\n\u001b[0;32m   4329\u001b[0m ) \u001b[38;5;241m-\u001b[39m\u001b[38;5;241m>\u001b[39m DataFrame \u001b[38;5;241m|\u001b[39m Series:\n\u001b[0;32m   4330\u001b[0m     \u001b[38;5;124;03m\"\"\"\u001b[39;00m\n\u001b[0;32m   4331\u001b[0m \u001b[38;5;124;03m    Invoke function on values of Series.\u001b[39;00m\n\u001b[0;32m   4332\u001b[0m \n\u001b[1;32m   (...)\u001b[0m\n\u001b[0;32m   4431\u001b[0m \u001b[38;5;124;03m    dtype: float64\u001b[39;00m\n\u001b[0;32m   4432\u001b[0m \u001b[38;5;124;03m    \"\"\"\u001b[39;00m\n\u001b[1;32m-> 4433\u001b[0m     \u001b[38;5;28;01mreturn\u001b[39;00m \u001b[43mSeriesApply\u001b[49m\u001b[43m(\u001b[49m\u001b[38;5;28;43mself\u001b[39;49m\u001b[43m,\u001b[49m\u001b[43m \u001b[49m\u001b[43mfunc\u001b[49m\u001b[43m,\u001b[49m\u001b[43m \u001b[49m\u001b[43mconvert_dtype\u001b[49m\u001b[43m,\u001b[49m\u001b[43m \u001b[49m\u001b[43margs\u001b[49m\u001b[43m,\u001b[49m\u001b[43m \u001b[49m\u001b[43mkwargs\u001b[49m\u001b[43m)\u001b[49m\u001b[38;5;241;43m.\u001b[39;49m\u001b[43mapply\u001b[49m\u001b[43m(\u001b[49m\u001b[43m)\u001b[49m\n",
      "File \u001b[1;32m~\\anaconda3\\lib\\site-packages\\pandas\\core\\apply.py:1088\u001b[0m, in \u001b[0;36mSeriesApply.apply\u001b[1;34m(self)\u001b[0m\n\u001b[0;32m   1084\u001b[0m \u001b[38;5;28;01mif\u001b[39;00m \u001b[38;5;28misinstance\u001b[39m(\u001b[38;5;28mself\u001b[39m\u001b[38;5;241m.\u001b[39mf, \u001b[38;5;28mstr\u001b[39m):\n\u001b[0;32m   1085\u001b[0m     \u001b[38;5;66;03m# if we are a string, try to dispatch\u001b[39;00m\n\u001b[0;32m   1086\u001b[0m     \u001b[38;5;28;01mreturn\u001b[39;00m \u001b[38;5;28mself\u001b[39m\u001b[38;5;241m.\u001b[39mapply_str()\n\u001b[1;32m-> 1088\u001b[0m \u001b[38;5;28;01mreturn\u001b[39;00m \u001b[38;5;28;43mself\u001b[39;49m\u001b[38;5;241;43m.\u001b[39;49m\u001b[43mapply_standard\u001b[49m\u001b[43m(\u001b[49m\u001b[43m)\u001b[49m\n",
      "File \u001b[1;32m~\\anaconda3\\lib\\site-packages\\pandas\\core\\apply.py:1143\u001b[0m, in \u001b[0;36mSeriesApply.apply_standard\u001b[1;34m(self)\u001b[0m\n\u001b[0;32m   1137\u001b[0m         values \u001b[38;5;241m=\u001b[39m obj\u001b[38;5;241m.\u001b[39mastype(\u001b[38;5;28mobject\u001b[39m)\u001b[38;5;241m.\u001b[39m_values\n\u001b[0;32m   1138\u001b[0m         \u001b[38;5;66;03m# error: Argument 2 to \"map_infer\" has incompatible type\u001b[39;00m\n\u001b[0;32m   1139\u001b[0m         \u001b[38;5;66;03m# \"Union[Callable[..., Any], str, List[Union[Callable[..., Any], str]],\u001b[39;00m\n\u001b[0;32m   1140\u001b[0m         \u001b[38;5;66;03m# Dict[Hashable, Union[Union[Callable[..., Any], str],\u001b[39;00m\n\u001b[0;32m   1141\u001b[0m         \u001b[38;5;66;03m# List[Union[Callable[..., Any], str]]]]]\"; expected\u001b[39;00m\n\u001b[0;32m   1142\u001b[0m         \u001b[38;5;66;03m# \"Callable[[Any], Any]\"\u001b[39;00m\n\u001b[1;32m-> 1143\u001b[0m         mapped \u001b[38;5;241m=\u001b[39m \u001b[43mlib\u001b[49m\u001b[38;5;241;43m.\u001b[39;49m\u001b[43mmap_infer\u001b[49m\u001b[43m(\u001b[49m\n\u001b[0;32m   1144\u001b[0m \u001b[43m            \u001b[49m\u001b[43mvalues\u001b[49m\u001b[43m,\u001b[49m\n\u001b[0;32m   1145\u001b[0m \u001b[43m            \u001b[49m\u001b[43mf\u001b[49m\u001b[43m,\u001b[49m\u001b[43m  \u001b[49m\u001b[38;5;66;43;03m# type: ignore[arg-type]\u001b[39;49;00m\n\u001b[0;32m   1146\u001b[0m \u001b[43m            \u001b[49m\u001b[43mconvert\u001b[49m\u001b[38;5;241;43m=\u001b[39;49m\u001b[38;5;28;43mself\u001b[39;49m\u001b[38;5;241;43m.\u001b[39;49m\u001b[43mconvert_dtype\u001b[49m\u001b[43m,\u001b[49m\n\u001b[0;32m   1147\u001b[0m \u001b[43m        \u001b[49m\u001b[43m)\u001b[49m\n\u001b[0;32m   1149\u001b[0m \u001b[38;5;28;01mif\u001b[39;00m \u001b[38;5;28mlen\u001b[39m(mapped) \u001b[38;5;129;01mand\u001b[39;00m \u001b[38;5;28misinstance\u001b[39m(mapped[\u001b[38;5;241m0\u001b[39m], ABCSeries):\n\u001b[0;32m   1150\u001b[0m     \u001b[38;5;66;03m# GH#43986 Need to do list(mapped) in order to get treated as nested\u001b[39;00m\n\u001b[0;32m   1151\u001b[0m     \u001b[38;5;66;03m#  See also GH#25959 regarding EA support\u001b[39;00m\n\u001b[0;32m   1152\u001b[0m     \u001b[38;5;28;01mreturn\u001b[39;00m obj\u001b[38;5;241m.\u001b[39m_constructor_expanddim(\u001b[38;5;28mlist\u001b[39m(mapped), index\u001b[38;5;241m=\u001b[39mobj\u001b[38;5;241m.\u001b[39mindex)\n",
      "File \u001b[1;32m~\\anaconda3\\lib\\site-packages\\pandas\\_libs\\lib.pyx:2870\u001b[0m, in \u001b[0;36mpandas._libs.lib.map_infer\u001b[1;34m()\u001b[0m\n",
      "File \u001b[1;32m~\\anaconda3\\lib\\site-packages\\pandas\\core\\apply.py:138\u001b[0m, in \u001b[0;36mApply.__init__.<locals>.f\u001b[1;34m(x)\u001b[0m\n\u001b[0;32m    137\u001b[0m \u001b[38;5;28;01mdef\u001b[39;00m \u001b[38;5;21mf\u001b[39m(x):\n\u001b[1;32m--> 138\u001b[0m     \u001b[38;5;28;01mreturn\u001b[39;00m \u001b[43mfunc\u001b[49m\u001b[43m(\u001b[49m\u001b[43mx\u001b[49m\u001b[43m,\u001b[49m\u001b[43m \u001b[49m\u001b[38;5;241;43m*\u001b[39;49m\u001b[43margs\u001b[49m\u001b[43m,\u001b[49m\u001b[43m \u001b[49m\u001b[38;5;241;43m*\u001b[39;49m\u001b[38;5;241;43m*\u001b[39;49m\u001b[43mkwargs\u001b[49m\u001b[43m)\u001b[49m\n",
      "Input \u001b[1;32mIn [18]\u001b[0m, in \u001b[0;36mget_topics\u001b[1;34m(doc, model)\u001b[0m\n\u001b[0;32m      5\u001b[0m     doc_converted \u001b[38;5;241m=\u001b[39m model\u001b[38;5;241m.\u001b[39mmake_doc((\u001b[38;5;124m'\u001b[39m\u001b[38;5;124mempty\u001b[39m\u001b[38;5;124m'\u001b[39m, \u001b[38;5;124m'\u001b[39m\u001b[38;5;124mdocument\u001b[39m\u001b[38;5;124m'\u001b[39m))\n\u001b[0;32m      6\u001b[0m \u001b[38;5;66;03m# infer the topic distribution of the converted document\u001b[39;00m\n\u001b[1;32m----> 7\u001b[0m topic_dist, _ \u001b[38;5;241m=\u001b[39m model\u001b[38;5;241m.\u001b[39minfer(doc_converted)\n\u001b[0;32m      8\u001b[0m \u001b[38;5;66;03m# find the topics with the highest probability\u001b[39;00m\n\u001b[0;32m      9\u001b[0m topics \u001b[38;5;241m=\u001b[39m \u001b[38;5;124m'\u001b[39m\u001b[38;5;124m, \u001b[39m\u001b[38;5;124m'\u001b[39m\u001b[38;5;241m.\u001b[39mjoin([\u001b[38;5;28mstr\u001b[39m(i) \u001b[38;5;28;01mfor\u001b[39;00m i, prob \u001b[38;5;129;01min\u001b[39;00m \u001b[38;5;28menumerate\u001b[39m(topic_dist) \u001b[38;5;28;01mif\u001b[39;00m prob \u001b[38;5;241m>\u001b[39m \u001b[38;5;241m0.1\u001b[39m])\n",
      "\u001b[1;31mKeyboardInterrupt\u001b[0m: "
     ]
    }
   ],
   "source": [
    "def get_topics(doc, model):\n",
    "    try:\n",
    "        doc_converted = model.make_doc(doc.split())\n",
    "    except:\n",
    "        doc_converted = model.make_doc(('empty', 'document'))\n",
    "    # infer the topic distribution of the converted document\n",
    "    topic_dist, _ = model.infer(doc_converted)\n",
    "    # find the topics with the highest probability\n",
    "    topics = ', '.join([str(i) for i, prob in enumerate(topic_dist) if prob > 0.1])\n",
    "    # assign values under prob threshold as noise\n",
    "    if topics == '':\n",
    "        topics = '-1'\n",
    "    return topics\n",
    "\n",
    "feature_df['lda_topics'] = feature_df.cleaned_summary.apply(get_topics, model=lda_model)\n",
    "feature_df['hdp_topics'] = feature_df.cleaned_summary.apply(get_topics, model=hdp_model)"
   ]
  },
  {
   "cell_type": "code",
   "execution_count": null,
   "id": "438125e1",
   "metadata": {
    "scrolled": false
   },
   "outputs": [],
   "source": [
    "feature_df.hdp_topics.hist(xrot=50, figsize=(30,15), grid=False)"
   ]
  },
  {
   "cell_type": "code",
   "execution_count": null,
   "id": "cfb8b79e",
   "metadata": {
    "scrolled": false
   },
   "outputs": [],
   "source": [
    "feature_df.lda_topics.hist(xrot=50, figsize=(30,15), grid=False)"
   ]
  },
  {
   "cell_type": "code",
   "execution_count": 113,
   "id": "71a3123c",
   "metadata": {},
   "outputs": [],
   "source": [
    "import matplotlib.pyplot as plt\n",
    "\n",
    "def plot_top_words(model, top_n=5):\n",
    "    num_topics = model.k\n",
    "    ncols = 3\n",
    "    nrows = 1 + num_topics // 4 \n",
    "\n",
    "    fig, axes = plt.subplots(nrows=nrows, ncols=ncols, figsize=(20,10), sharex=True)\n",
    "    axes = axes.flatten()\n",
    "    if len(axes) % ncols != 0:\n",
    "        for i in range(len(len(axes) % ncols)):\n",
    "            axes.pop()\n",
    "    for i in range(0, num_topics-1):\n",
    "        top_words = model.get_topic_words(i)\n",
    "        top_words = top_words[:top_n]\n",
    "        words, values = zip(*top_words)\n",
    "        ax = axes[i]\n",
    "        ax.set_xticks(range(top_n))\n",
    "        ax.set_xticklabels(words, rotation='vertical')\n",
    "        ax.set_title(f'Topic {i+1}')\n",
    "        ax.barh(words, values, height=0.5)\n",
    "        ax.invert_yaxis()\n",
    "        ax.tick_params(axis='both', which='major', labelsize=20)\n",
    "        for i in 'top right left'.split():\n",
    "            ax.spines[i].set_visible(False)\n",
    "        #fig.suptitle(title, fontsize=40)\n",
    "\n",
    "    plt.subplots_adjust(top=0.90, bottom=0.05, wspace=0.2, hspace=0.5)\n",
    "    plt.show()\n",
    "    plt.close()\n"
   ]
  },
  {
   "cell_type": "code",
   "execution_count": null,
   "id": "558ad756",
   "metadata": {},
   "outputs": [],
   "source": []
  },
  {
   "cell_type": "code",
   "execution_count": 115,
   "id": "8e04d85e",
   "metadata": {
    "scrolled": true
   },
   "outputs": [
    {
     "data": {
      "image/png": "[encoded data removed]",
      "text/plain": [
       "<Figure size 1440x720 with 9 Axes>"
      ]
     },
     "metadata": {},
     "output_type": "display_data"
    }
   ],
   "source": [
    "plot_top_words(hdp_model)\n"
   ]
  },
  {
   "cell_type": "code",
   "execution_count": 419,
   "id": "0b486c88",
   "metadata": {},
   "outputs": [],
   "source": [
    "# Save data\n",
    "feature_df = feature_df.drop(columns=['hdp_topic', 'lda_topic'])\n",
    "feature_df.to_pickle('features_and_topics.pickle')"
   ]
  },
  {
   "cell_type": "code",
   "execution_count": 119,
   "id": "9cb032b2",
   "metadata": {
    "scrolled": true
   },
   "outputs": [
    {
     "ename": "KeyError",
     "evalue": "'year'",
     "output_type": "error",
     "traceback": [
      "\u001b[1;31m---------------------------------------------------------------------------\u001b[0m",
      "\u001b[1;31mKeyError\u001b[0m                                  Traceback (most recent call last)",
      "Input \u001b[1;32mIn [119]\u001b[0m, in \u001b[0;36m<cell line: 6>\u001b[1;34m()\u001b[0m\n\u001b[0;32m      2\u001b[0m \u001b[38;5;28;01mimport\u001b[39;00m \u001b[38;5;21;01mmatplotlib\u001b[39;00m\u001b[38;5;21;01m.\u001b[39;00m\u001b[38;5;21;01mpyplot\u001b[39;00m \u001b[38;5;28;01mas\u001b[39;00m \u001b[38;5;21;01mplt\u001b[39;00m\n\u001b[0;32m      3\u001b[0m feature_df \u001b[38;5;241m=\u001b[39m pd\u001b[38;5;241m.\u001b[39mread_pickle(\u001b[38;5;124m'\u001b[39m\u001b[38;5;124mfeatures_and_topics.pickle\u001b[39m\u001b[38;5;124m'\u001b[39m)\n\u001b[1;32m----> 6\u001b[0m grouped \u001b[38;5;241m=\u001b[39m \u001b[43mfeature_df\u001b[49m\u001b[38;5;241;43m.\u001b[39;49m\u001b[43mgroupby\u001b[49m\u001b[43m(\u001b[49m\u001b[43m[\u001b[49m\u001b[38;5;124;43m'\u001b[39;49m\u001b[38;5;124;43myear\u001b[39;49m\u001b[38;5;124;43m'\u001b[39;49m\u001b[43m,\u001b[49m\u001b[43m \u001b[49m\u001b[38;5;124;43m'\u001b[39;49m\u001b[38;5;124;43mtopic\u001b[39;49m\u001b[38;5;124;43m'\u001b[39;49m\u001b[43m]\u001b[49m\u001b[43m)\u001b[49m\u001b[38;5;241m.\u001b[39msize()\u001b[38;5;241m.\u001b[39mreset_index(name\u001b[38;5;241m=\u001b[39m\u001b[38;5;124m'\u001b[39m\u001b[38;5;124mcounts\u001b[39m\u001b[38;5;124m'\u001b[39m)\n\u001b[0;32m      9\u001b[0m pivot_df \u001b[38;5;241m=\u001b[39m grouped\u001b[38;5;241m.\u001b[39mpivot(index\u001b[38;5;241m=\u001b[39m\u001b[38;5;124m'\u001b[39m\u001b[38;5;124myear\u001b[39m\u001b[38;5;124m'\u001b[39m, columns\u001b[38;5;241m=\u001b[39m\u001b[38;5;124m'\u001b[39m\u001b[38;5;124mtopic\u001b[39m\u001b[38;5;124m'\u001b[39m, values\u001b[38;5;241m=\u001b[39m\u001b[38;5;124m'\u001b[39m\u001b[38;5;124mcounts\u001b[39m\u001b[38;5;124m'\u001b[39m)\n\u001b[0;32m     10\u001b[0m pivot_df \u001b[38;5;241m=\u001b[39m pivot_df\u001b[38;5;241m.\u001b[39mfillna(\u001b[38;5;241m0\u001b[39m)\n",
      "File \u001b[1;32m~\\anaconda3\\lib\\site-packages\\pandas\\core\\frame.py:7721\u001b[0m, in \u001b[0;36mDataFrame.groupby\u001b[1;34m(self, by, axis, level, as_index, sort, group_keys, squeeze, observed, dropna)\u001b[0m\n\u001b[0;32m   7716\u001b[0m axis \u001b[38;5;241m=\u001b[39m \u001b[38;5;28mself\u001b[39m\u001b[38;5;241m.\u001b[39m_get_axis_number(axis)\n\u001b[0;32m   7718\u001b[0m \u001b[38;5;66;03m# https://github.com/python/mypy/issues/7642\u001b[39;00m\n\u001b[0;32m   7719\u001b[0m \u001b[38;5;66;03m# error: Argument \"squeeze\" to \"DataFrameGroupBy\" has incompatible type\u001b[39;00m\n\u001b[0;32m   7720\u001b[0m \u001b[38;5;66;03m# \"Union[bool, NoDefault]\"; expected \"bool\"\u001b[39;00m\n\u001b[1;32m-> 7721\u001b[0m \u001b[38;5;28;01mreturn\u001b[39;00m \u001b[43mDataFrameGroupBy\u001b[49m\u001b[43m(\u001b[49m\n\u001b[0;32m   7722\u001b[0m \u001b[43m    \u001b[49m\u001b[43mobj\u001b[49m\u001b[38;5;241;43m=\u001b[39;49m\u001b[38;5;28;43mself\u001b[39;49m\u001b[43m,\u001b[49m\n\u001b[0;32m   7723\u001b[0m \u001b[43m    \u001b[49m\u001b[43mkeys\u001b[49m\u001b[38;5;241;43m=\u001b[39;49m\u001b[43mby\u001b[49m\u001b[43m,\u001b[49m\n\u001b[0;32m   7724\u001b[0m \u001b[43m    \u001b[49m\u001b[43maxis\u001b[49m\u001b[38;5;241;43m=\u001b[39;49m\u001b[43maxis\u001b[49m\u001b[43m,\u001b[49m\n\u001b[0;32m   7725\u001b[0m \u001b[43m    \u001b[49m\u001b[43mlevel\u001b[49m\u001b[38;5;241;43m=\u001b[39;49m\u001b[43mlevel\u001b[49m\u001b[43m,\u001b[49m\n\u001b[0;32m   7726\u001b[0m \u001b[43m    \u001b[49m\u001b[43mas_index\u001b[49m\u001b[38;5;241;43m=\u001b[39;49m\u001b[43mas_index\u001b[49m\u001b[43m,\u001b[49m\n\u001b[0;32m   7727\u001b[0m \u001b[43m    \u001b[49m\u001b[43msort\u001b[49m\u001b[38;5;241;43m=\u001b[39;49m\u001b[43msort\u001b[49m\u001b[43m,\u001b[49m\n\u001b[0;32m   7728\u001b[0m \u001b[43m    \u001b[49m\u001b[43mgroup_keys\u001b[49m\u001b[38;5;241;43m=\u001b[39;49m\u001b[43mgroup_keys\u001b[49m\u001b[43m,\u001b[49m\n\u001b[0;32m   7729\u001b[0m \u001b[43m    \u001b[49m\u001b[43msqueeze\u001b[49m\u001b[38;5;241;43m=\u001b[39;49m\u001b[43msqueeze\u001b[49m\u001b[43m,\u001b[49m\u001b[43m  \u001b[49m\u001b[38;5;66;43;03m# type: ignore[arg-type]\u001b[39;49;00m\n\u001b[0;32m   7730\u001b[0m \u001b[43m    \u001b[49m\u001b[43mobserved\u001b[49m\u001b[38;5;241;43m=\u001b[39;49m\u001b[43mobserved\u001b[49m\u001b[43m,\u001b[49m\n\u001b[0;32m   7731\u001b[0m \u001b[43m    \u001b[49m\u001b[43mdropna\u001b[49m\u001b[38;5;241;43m=\u001b[39;49m\u001b[43mdropna\u001b[49m\u001b[43m,\u001b[49m\n\u001b[0;32m   7732\u001b[0m \u001b[43m\u001b[49m\u001b[43m)\u001b[49m\n",
      "File \u001b[1;32m~\\anaconda3\\lib\\site-packages\\pandas\\core\\groupby\\groupby.py:882\u001b[0m, in \u001b[0;36mGroupBy.__init__\u001b[1;34m(self, obj, keys, axis, level, grouper, exclusions, selection, as_index, sort, group_keys, squeeze, observed, mutated, dropna)\u001b[0m\n\u001b[0;32m    879\u001b[0m \u001b[38;5;28;01mif\u001b[39;00m grouper \u001b[38;5;129;01mis\u001b[39;00m \u001b[38;5;28;01mNone\u001b[39;00m:\n\u001b[0;32m    880\u001b[0m     \u001b[38;5;28;01mfrom\u001b[39;00m \u001b[38;5;21;01mpandas\u001b[39;00m\u001b[38;5;21;01m.\u001b[39;00m\u001b[38;5;21;01mcore\u001b[39;00m\u001b[38;5;21;01m.\u001b[39;00m\u001b[38;5;21;01mgroupby\u001b[39;00m\u001b[38;5;21;01m.\u001b[39;00m\u001b[38;5;21;01mgrouper\u001b[39;00m \u001b[38;5;28;01mimport\u001b[39;00m get_grouper\n\u001b[1;32m--> 882\u001b[0m     grouper, exclusions, obj \u001b[38;5;241m=\u001b[39m \u001b[43mget_grouper\u001b[49m\u001b[43m(\u001b[49m\n\u001b[0;32m    883\u001b[0m \u001b[43m        \u001b[49m\u001b[43mobj\u001b[49m\u001b[43m,\u001b[49m\n\u001b[0;32m    884\u001b[0m \u001b[43m        \u001b[49m\u001b[43mkeys\u001b[49m\u001b[43m,\u001b[49m\n\u001b[0;32m    885\u001b[0m \u001b[43m        \u001b[49m\u001b[43maxis\u001b[49m\u001b[38;5;241;43m=\u001b[39;49m\u001b[43maxis\u001b[49m\u001b[43m,\u001b[49m\n\u001b[0;32m    886\u001b[0m \u001b[43m        \u001b[49m\u001b[43mlevel\u001b[49m\u001b[38;5;241;43m=\u001b[39;49m\u001b[43mlevel\u001b[49m\u001b[43m,\u001b[49m\n\u001b[0;32m    887\u001b[0m \u001b[43m        \u001b[49m\u001b[43msort\u001b[49m\u001b[38;5;241;43m=\u001b[39;49m\u001b[43msort\u001b[49m\u001b[43m,\u001b[49m\n\u001b[0;32m    888\u001b[0m \u001b[43m        \u001b[49m\u001b[43mobserved\u001b[49m\u001b[38;5;241;43m=\u001b[39;49m\u001b[43mobserved\u001b[49m\u001b[43m,\u001b[49m\n\u001b[0;32m    889\u001b[0m \u001b[43m        \u001b[49m\u001b[43mmutated\u001b[49m\u001b[38;5;241;43m=\u001b[39;49m\u001b[38;5;28;43mself\u001b[39;49m\u001b[38;5;241;43m.\u001b[39;49m\u001b[43mmutated\u001b[49m\u001b[43m,\u001b[49m\n\u001b[0;32m    890\u001b[0m \u001b[43m        \u001b[49m\u001b[43mdropna\u001b[49m\u001b[38;5;241;43m=\u001b[39;49m\u001b[38;5;28;43mself\u001b[39;49m\u001b[38;5;241;43m.\u001b[39;49m\u001b[43mdropna\u001b[49m\u001b[43m,\u001b[49m\n\u001b[0;32m    891\u001b[0m \u001b[43m    \u001b[49m\u001b[43m)\u001b[49m\n\u001b[0;32m    893\u001b[0m \u001b[38;5;28mself\u001b[39m\u001b[38;5;241m.\u001b[39mobj \u001b[38;5;241m=\u001b[39m obj\n\u001b[0;32m    894\u001b[0m \u001b[38;5;28mself\u001b[39m\u001b[38;5;241m.\u001b[39maxis \u001b[38;5;241m=\u001b[39m obj\u001b[38;5;241m.\u001b[39m_get_axis_number(axis)\n",
      "File \u001b[1;32m~\\anaconda3\\lib\\site-packages\\pandas\\core\\groupby\\grouper.py:882\u001b[0m, in \u001b[0;36mget_grouper\u001b[1;34m(obj, key, axis, level, sort, observed, mutated, validate, dropna)\u001b[0m\n\u001b[0;32m    880\u001b[0m         in_axis, level, gpr \u001b[38;5;241m=\u001b[39m \u001b[38;5;28;01mFalse\u001b[39;00m, gpr, \u001b[38;5;28;01mNone\u001b[39;00m\n\u001b[0;32m    881\u001b[0m     \u001b[38;5;28;01melse\u001b[39;00m:\n\u001b[1;32m--> 882\u001b[0m         \u001b[38;5;28;01mraise\u001b[39;00m \u001b[38;5;167;01mKeyError\u001b[39;00m(gpr)\n\u001b[0;32m    883\u001b[0m \u001b[38;5;28;01melif\u001b[39;00m \u001b[38;5;28misinstance\u001b[39m(gpr, Grouper) \u001b[38;5;129;01mand\u001b[39;00m gpr\u001b[38;5;241m.\u001b[39mkey \u001b[38;5;129;01mis\u001b[39;00m \u001b[38;5;129;01mnot\u001b[39;00m \u001b[38;5;28;01mNone\u001b[39;00m:\n\u001b[0;32m    884\u001b[0m     \u001b[38;5;66;03m# Add key to exclusions\u001b[39;00m\n\u001b[0;32m    885\u001b[0m     exclusions\u001b[38;5;241m.\u001b[39madd(gpr\u001b[38;5;241m.\u001b[39mkey)\n",
      "\u001b[1;31mKeyError\u001b[0m: 'year'"
     ]
    }
   ],
   "source": [
    "import pandas as pd\n",
    "import matplotlib.pyplot as plt\n",
    "feature_df = pd.read_pickle('features_and_topics.pickle')\n",
    "\n",
    "\n",
    "grouped = feature_df.groupby(['year', 'topic']).size().reset_index(name='counts')\n",
    "\n",
    "\n",
    "pivot_df = grouped.pivot(index='year', columns='topic', values='counts')\n",
    "pivot_df = pivot_df.fillna(0)\n",
    "pivot_df.plot(kind='bar', stacked=True, figsize=(10,7))\n",
    "\n",
    "plt.xlabel('Year')\n",
    "plt.ylabel('Counts')\n",
    "plt.title('Topic distribution per year')\n",
    "\n",
    "plt.show()\n"
   ]
  },
  {
   "cell_type": "code",
   "execution_count": 416,
   "id": "0ae3df2e",
   "metadata": {},
   "outputs": [],
   "source": [
    "from transformers import DistilBertModel, DistilBertTokenizer\n",
    "import torch\n",
    "tokenizer = DistilBertTokenizer.from_pretrained('distilbert-base-uncased')\n",
    "model = DistilBertModel.from_pretrained('distilbert-base-uncased')\n",
    "\n",
    "GENERATE = False\n",
    "\n",
    "if GENERATE:\n",
    "    embeddings = []\n",
    "    tokens = feature_df['summary'].dropna().apply(tokenizer.tokenize)\n",
    "    for t in tokens:\n",
    "        input_ids = torch.tensor([tokenizer.convert_tokens_to_ids(t)])\n",
    "        with torch.no_grad():\n",
    "            last_hidden_states = model(input_ids)[0]\n",
    "        embedding = last_hidden_states[0][0].numpy()\n",
    "        embeddings.append(embedding)\n",
    "        embeddings_arr = np.vstack(embeddings)\n",
    "        pd.Series(embeddings, index=feature_df.summary.dropna().index).to_pickle('embeddings.pickle')\n",
    "else:\n",
    "    embeddings = pd.read_pickle('embeddings.pickle')\n",
    "    embeddings.name = 'bert_embs'\n"
   ]
  },
  {
   "cell_type": "code",
   "execution_count": null,
   "id": "a115a002",
   "metadata": {},
   "outputs": [],
   "source": [
    "delta_means = compute_delta_means(cluster_means)"
   ]
  },
  {
   "cell_type": "code",
   "execution_count": 118,
   "id": "68a506ea",
   "metadata": {},
   "outputs": [
    {
     "ename": "KeyError",
     "evalue": "'Year'",
     "output_type": "error",
     "traceback": [
      "\u001b[1;31m---------------------------------------------------------------------------\u001b[0m",
      "\u001b[1;31mKeyError\u001b[0m                                  Traceback (most recent call last)",
      "Input \u001b[1;32mIn [118]\u001b[0m, in \u001b[0;36m<cell line: 7>\u001b[1;34m()\u001b[0m\n\u001b[0;32m      2\u001b[0m \u001b[38;5;28;01mimport\u001b[39;00m \u001b[38;5;21;01mmatplotlib\u001b[39;00m\u001b[38;5;21;01m.\u001b[39;00m\u001b[38;5;21;01mpyplot\u001b[39;00m \u001b[38;5;28;01mas\u001b[39;00m \u001b[38;5;21;01mplt\u001b[39;00m\n\u001b[0;32m      4\u001b[0m \u001b[38;5;66;03m# Assuming df is your DataFrame and it has columns 'Year' and 'Topic'\u001b[39;00m\n\u001b[0;32m      5\u001b[0m \n\u001b[0;32m      6\u001b[0m \u001b[38;5;66;03m# Create a groupby object: Group by 'Year' and 'Topic' and count\u001b[39;00m\n\u001b[1;32m----> 7\u001b[0m grouped \u001b[38;5;241m=\u001b[39m \u001b[43mdf\u001b[49m\u001b[38;5;241;43m.\u001b[39;49m\u001b[43mgroupby\u001b[49m\u001b[43m(\u001b[49m\u001b[43m[\u001b[49m\u001b[38;5;124;43m'\u001b[39;49m\u001b[38;5;124;43mYear\u001b[39;49m\u001b[38;5;124;43m'\u001b[39;49m\u001b[43m,\u001b[49m\u001b[43m \u001b[49m\u001b[38;5;124;43m'\u001b[39;49m\u001b[38;5;124;43mTopic\u001b[39;49m\u001b[38;5;124;43m'\u001b[39;49m\u001b[43m]\u001b[49m\u001b[43m)\u001b[49m\u001b[38;5;241m.\u001b[39msize()\u001b[38;5;241m.\u001b[39mreset_index(name\u001b[38;5;241m=\u001b[39m\u001b[38;5;124m'\u001b[39m\u001b[38;5;124mCounts\u001b[39m\u001b[38;5;124m'\u001b[39m)\n\u001b[0;32m      9\u001b[0m \u001b[38;5;66;03m# Pivot this data so 'Year' is the index, the columns are the topics, \u001b[39;00m\n\u001b[0;32m     10\u001b[0m \u001b[38;5;66;03m# and the values are the counts\u001b[39;00m\n\u001b[0;32m     11\u001b[0m pivot_df \u001b[38;5;241m=\u001b[39m grouped\u001b[38;5;241m.\u001b[39mpivot(index\u001b[38;5;241m=\u001b[39m\u001b[38;5;124m'\u001b[39m\u001b[38;5;124mYear\u001b[39m\u001b[38;5;124m'\u001b[39m, columns\u001b[38;5;241m=\u001b[39m\u001b[38;5;124m'\u001b[39m\u001b[38;5;124mTopic\u001b[39m\u001b[38;5;124m'\u001b[39m, values\u001b[38;5;241m=\u001b[39m\u001b[38;5;124m'\u001b[39m\u001b[38;5;124mCounts\u001b[39m\u001b[38;5;124m'\u001b[39m)\n",
      "File \u001b[1;32m~\\anaconda3\\lib\\site-packages\\pandas\\core\\frame.py:7721\u001b[0m, in \u001b[0;36mDataFrame.groupby\u001b[1;34m(self, by, axis, level, as_index, sort, group_keys, squeeze, observed, dropna)\u001b[0m\n\u001b[0;32m   7716\u001b[0m axis \u001b[38;5;241m=\u001b[39m \u001b[38;5;28mself\u001b[39m\u001b[38;5;241m.\u001b[39m_get_axis_number(axis)\n\u001b[0;32m   7718\u001b[0m \u001b[38;5;66;03m# https://github.com/python/mypy/issues/7642\u001b[39;00m\n\u001b[0;32m   7719\u001b[0m \u001b[38;5;66;03m# error: Argument \"squeeze\" to \"DataFrameGroupBy\" has incompatible type\u001b[39;00m\n\u001b[0;32m   7720\u001b[0m \u001b[38;5;66;03m# \"Union[bool, NoDefault]\"; expected \"bool\"\u001b[39;00m\n\u001b[1;32m-> 7721\u001b[0m \u001b[38;5;28;01mreturn\u001b[39;00m \u001b[43mDataFrameGroupBy\u001b[49m\u001b[43m(\u001b[49m\n\u001b[0;32m   7722\u001b[0m \u001b[43m    \u001b[49m\u001b[43mobj\u001b[49m\u001b[38;5;241;43m=\u001b[39;49m\u001b[38;5;28;43mself\u001b[39;49m\u001b[43m,\u001b[49m\n\u001b[0;32m   7723\u001b[0m \u001b[43m    \u001b[49m\u001b[43mkeys\u001b[49m\u001b[38;5;241;43m=\u001b[39;49m\u001b[43mby\u001b[49m\u001b[43m,\u001b[49m\n\u001b[0;32m   7724\u001b[0m \u001b[43m    \u001b[49m\u001b[43maxis\u001b[49m\u001b[38;5;241;43m=\u001b[39;49m\u001b[43maxis\u001b[49m\u001b[43m,\u001b[49m\n\u001b[0;32m   7725\u001b[0m \u001b[43m    \u001b[49m\u001b[43mlevel\u001b[49m\u001b[38;5;241;43m=\u001b[39;49m\u001b[43mlevel\u001b[49m\u001b[43m,\u001b[49m\n\u001b[0;32m   7726\u001b[0m \u001b[43m    \u001b[49m\u001b[43mas_index\u001b[49m\u001b[38;5;241;43m=\u001b[39;49m\u001b[43mas_index\u001b[49m\u001b[43m,\u001b[49m\n\u001b[0;32m   7727\u001b[0m \u001b[43m    \u001b[49m\u001b[43msort\u001b[49m\u001b[38;5;241;43m=\u001b[39;49m\u001b[43msort\u001b[49m\u001b[43m,\u001b[49m\n\u001b[0;32m   7728\u001b[0m \u001b[43m    \u001b[49m\u001b[43mgroup_keys\u001b[49m\u001b[38;5;241;43m=\u001b[39;49m\u001b[43mgroup_keys\u001b[49m\u001b[43m,\u001b[49m\n\u001b[0;32m   7729\u001b[0m \u001b[43m    \u001b[49m\u001b[43msqueeze\u001b[49m\u001b[38;5;241;43m=\u001b[39;49m\u001b[43msqueeze\u001b[49m\u001b[43m,\u001b[49m\u001b[43m  \u001b[49m\u001b[38;5;66;43;03m# type: ignore[arg-type]\u001b[39;49;00m\n\u001b[0;32m   7730\u001b[0m \u001b[43m    \u001b[49m\u001b[43mobserved\u001b[49m\u001b[38;5;241;43m=\u001b[39;49m\u001b[43mobserved\u001b[49m\u001b[43m,\u001b[49m\n\u001b[0;32m   7731\u001b[0m \u001b[43m    \u001b[49m\u001b[43mdropna\u001b[49m\u001b[38;5;241;43m=\u001b[39;49m\u001b[43mdropna\u001b[49m\u001b[43m,\u001b[49m\n\u001b[0;32m   7732\u001b[0m \u001b[43m\u001b[49m\u001b[43m)\u001b[49m\n",
      "File \u001b[1;32m~\\anaconda3\\lib\\site-packages\\pandas\\core\\groupby\\groupby.py:882\u001b[0m, in \u001b[0;36mGroupBy.__init__\u001b[1;34m(self, obj, keys, axis, level, grouper, exclusions, selection, as_index, sort, group_keys, squeeze, observed, mutated, dropna)\u001b[0m\n\u001b[0;32m    879\u001b[0m \u001b[38;5;28;01mif\u001b[39;00m grouper \u001b[38;5;129;01mis\u001b[39;00m \u001b[38;5;28;01mNone\u001b[39;00m:\n\u001b[0;32m    880\u001b[0m     \u001b[38;5;28;01mfrom\u001b[39;00m \u001b[38;5;21;01mpandas\u001b[39;00m\u001b[38;5;21;01m.\u001b[39;00m\u001b[38;5;21;01mcore\u001b[39;00m\u001b[38;5;21;01m.\u001b[39;00m\u001b[38;5;21;01mgroupby\u001b[39;00m\u001b[38;5;21;01m.\u001b[39;00m\u001b[38;5;21;01mgrouper\u001b[39;00m \u001b[38;5;28;01mimport\u001b[39;00m get_grouper\n\u001b[1;32m--> 882\u001b[0m     grouper, exclusions, obj \u001b[38;5;241m=\u001b[39m \u001b[43mget_grouper\u001b[49m\u001b[43m(\u001b[49m\n\u001b[0;32m    883\u001b[0m \u001b[43m        \u001b[49m\u001b[43mobj\u001b[49m\u001b[43m,\u001b[49m\n\u001b[0;32m    884\u001b[0m \u001b[43m        \u001b[49m\u001b[43mkeys\u001b[49m\u001b[43m,\u001b[49m\n\u001b[0;32m    885\u001b[0m \u001b[43m        \u001b[49m\u001b[43maxis\u001b[49m\u001b[38;5;241;43m=\u001b[39;49m\u001b[43maxis\u001b[49m\u001b[43m,\u001b[49m\n\u001b[0;32m    886\u001b[0m \u001b[43m        \u001b[49m\u001b[43mlevel\u001b[49m\u001b[38;5;241;43m=\u001b[39;49m\u001b[43mlevel\u001b[49m\u001b[43m,\u001b[49m\n\u001b[0;32m    887\u001b[0m \u001b[43m        \u001b[49m\u001b[43msort\u001b[49m\u001b[38;5;241;43m=\u001b[39;49m\u001b[43msort\u001b[49m\u001b[43m,\u001b[49m\n\u001b[0;32m    888\u001b[0m \u001b[43m        \u001b[49m\u001b[43mobserved\u001b[49m\u001b[38;5;241;43m=\u001b[39;49m\u001b[43mobserved\u001b[49m\u001b[43m,\u001b[49m\n\u001b[0;32m    889\u001b[0m \u001b[43m        \u001b[49m\u001b[43mmutated\u001b[49m\u001b[38;5;241;43m=\u001b[39;49m\u001b[38;5;28;43mself\u001b[39;49m\u001b[38;5;241;43m.\u001b[39;49m\u001b[43mmutated\u001b[49m\u001b[43m,\u001b[49m\n\u001b[0;32m    890\u001b[0m \u001b[43m        \u001b[49m\u001b[43mdropna\u001b[49m\u001b[38;5;241;43m=\u001b[39;49m\u001b[38;5;28;43mself\u001b[39;49m\u001b[38;5;241;43m.\u001b[39;49m\u001b[43mdropna\u001b[49m\u001b[43m,\u001b[49m\n\u001b[0;32m    891\u001b[0m \u001b[43m    \u001b[49m\u001b[43m)\u001b[49m\n\u001b[0;32m    893\u001b[0m \u001b[38;5;28mself\u001b[39m\u001b[38;5;241m.\u001b[39mobj \u001b[38;5;241m=\u001b[39m obj\n\u001b[0;32m    894\u001b[0m \u001b[38;5;28mself\u001b[39m\u001b[38;5;241m.\u001b[39maxis \u001b[38;5;241m=\u001b[39m obj\u001b[38;5;241m.\u001b[39m_get_axis_number(axis)\n",
      "File \u001b[1;32m~\\anaconda3\\lib\\site-packages\\pandas\\core\\groupby\\grouper.py:882\u001b[0m, in \u001b[0;36mget_grouper\u001b[1;34m(obj, key, axis, level, sort, observed, mutated, validate, dropna)\u001b[0m\n\u001b[0;32m    880\u001b[0m         in_axis, level, gpr \u001b[38;5;241m=\u001b[39m \u001b[38;5;28;01mFalse\u001b[39;00m, gpr, \u001b[38;5;28;01mNone\u001b[39;00m\n\u001b[0;32m    881\u001b[0m     \u001b[38;5;28;01melse\u001b[39;00m:\n\u001b[1;32m--> 882\u001b[0m         \u001b[38;5;28;01mraise\u001b[39;00m \u001b[38;5;167;01mKeyError\u001b[39;00m(gpr)\n\u001b[0;32m    883\u001b[0m \u001b[38;5;28;01melif\u001b[39;00m \u001b[38;5;28misinstance\u001b[39m(gpr, Grouper) \u001b[38;5;129;01mand\u001b[39;00m gpr\u001b[38;5;241m.\u001b[39mkey \u001b[38;5;129;01mis\u001b[39;00m \u001b[38;5;129;01mnot\u001b[39;00m \u001b[38;5;28;01mNone\u001b[39;00m:\n\u001b[0;32m    884\u001b[0m     \u001b[38;5;66;03m# Add key to exclusions\u001b[39;00m\n\u001b[0;32m    885\u001b[0m     exclusions\u001b[38;5;241m.\u001b[39madd(gpr\u001b[38;5;241m.\u001b[39mkey)\n",
      "\u001b[1;31mKeyError\u001b[0m: 'Year'"
     ]
    }
   ],
   "source": []
  },
  {
   "cell_type": "code",
   "execution_count": null,
   "id": "d5afa148",
   "metadata": {},
   "outputs": [],
   "source": []
  }
 ],
 "metadata": {
  "kernelspec": {
   "display_name": "Python 3 (ipykernel)",
   "language": "python",
   "name": "python3"
  },
  "language_info": {
   "codemirror_mode": {
    "name": "ipython",
    "version": 3
   },
   "file_extension": ".py",
   "mimetype": "text/x-python",
   "name": "python",
   "nbconvert_exporter": "python",
   "pygments_lexer": "ipython3",
   "version": "3.8.13"
  }
 },
 "nbformat": 4,
 "nbformat_minor": 5
}
